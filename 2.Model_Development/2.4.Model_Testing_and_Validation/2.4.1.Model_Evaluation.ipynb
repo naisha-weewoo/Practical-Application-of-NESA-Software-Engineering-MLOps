{
 "cells": [
  {
   "cell_type": "markdown",
   "metadata": {},
   "source": [
    "[Home](../../README.md)\n",
    "\n",
    "### Model Evaluation\n",
    "\n",
    "This is a demonstration of evaluating a model."
   ]
  },
  {
   "cell_type": "markdown",
   "metadata": {},
   "source": [
    "#### Step 1\n",
    "\n",
    "Load the required dependencies.\n"
   ]
  },
  {
   "cell_type": "code",
   "execution_count": 23,
   "metadata": {},
   "outputs": [],
   "source": [
    "# Import frameworks\n",
    "import numpy as np\n",
    "import pandas as pd\n",
    "import matplotlib.pyplot as plt\n",
    "plt.style.use('../../style_Matplotlib_charts.mplstyle')\n",
    "from sklearn.linear_model import LinearRegression\n",
    "import pickle"
   ]
  },
  {
   "cell_type": "markdown",
   "metadata": {},
   "source": [
    "####  Step 2\n",
    "\n",
    "Load the model for testing"
   ]
  },
  {
   "cell_type": "code",
   "execution_count": 24,
   "metadata": {},
   "outputs": [
    {
     "ename": "FileNotFoundError",
     "evalue": "[Errno 2] No such file or directory: 'my_saved_model_v1.sav'",
     "output_type": "error",
     "traceback": [
      "\u001b[31m---------------------------------------------------------------------------\u001b[39m",
      "\u001b[31mFileNotFoundError\u001b[39m                         Traceback (most recent call last)",
      "\u001b[36mCell\u001b[39m\u001b[36m \u001b[39m\u001b[32mIn[24]\u001b[39m\u001b[32m, line 2\u001b[39m\n\u001b[32m      1\u001b[39m filename = \u001b[33m'\u001b[39m\u001b[33mmy_saved_model_v1.sav\u001b[39m\u001b[33m'\u001b[39m\n\u001b[32m----> \u001b[39m\u001b[32m2\u001b[39m model_A = pickle.load(\u001b[38;5;28;43mopen\u001b[39;49m\u001b[43m(\u001b[49m\u001b[43mfilename\u001b[49m\u001b[43m,\u001b[49m\u001b[43m \u001b[49m\u001b[33;43m'\u001b[39;49m\u001b[33;43mrb\u001b[39;49m\u001b[33;43m'\u001b[39;49m\u001b[43m)\u001b[49m)\n",
      "\u001b[36mFile \u001b[39m\u001b[32mc:\\Users\\naith\\AppData\\Local\\Programs\\Python\\Python312\\Lib\\site-packages\\IPython\\core\\interactiveshell.py:325\u001b[39m, in \u001b[36m_modified_open\u001b[39m\u001b[34m(file, *args, **kwargs)\u001b[39m\n\u001b[32m    318\u001b[39m \u001b[38;5;28;01mif\u001b[39;00m file \u001b[38;5;129;01min\u001b[39;00m {\u001b[32m0\u001b[39m, \u001b[32m1\u001b[39m, \u001b[32m2\u001b[39m}:\n\u001b[32m    319\u001b[39m     \u001b[38;5;28;01mraise\u001b[39;00m \u001b[38;5;167;01mValueError\u001b[39;00m(\n\u001b[32m    320\u001b[39m         \u001b[33mf\u001b[39m\u001b[33m\"\u001b[39m\u001b[33mIPython won\u001b[39m\u001b[33m'\u001b[39m\u001b[33mt let you open fd=\u001b[39m\u001b[38;5;132;01m{\u001b[39;00mfile\u001b[38;5;132;01m}\u001b[39;00m\u001b[33m by default \u001b[39m\u001b[33m\"\u001b[39m\n\u001b[32m    321\u001b[39m         \u001b[33m\"\u001b[39m\u001b[33mas it is likely to crash IPython. If you know what you are doing, \u001b[39m\u001b[33m\"\u001b[39m\n\u001b[32m    322\u001b[39m         \u001b[33m\"\u001b[39m\u001b[33myou can use builtins\u001b[39m\u001b[33m'\u001b[39m\u001b[33m open.\u001b[39m\u001b[33m\"\u001b[39m\n\u001b[32m    323\u001b[39m     )\n\u001b[32m--> \u001b[39m\u001b[32m325\u001b[39m \u001b[38;5;28;01mreturn\u001b[39;00m \u001b[43mio_open\u001b[49m\u001b[43m(\u001b[49m\u001b[43mfile\u001b[49m\u001b[43m,\u001b[49m\u001b[43m \u001b[49m\u001b[43m*\u001b[49m\u001b[43margs\u001b[49m\u001b[43m,\u001b[49m\u001b[43m \u001b[49m\u001b[43m*\u001b[49m\u001b[43m*\u001b[49m\u001b[43mkwargs\u001b[49m\u001b[43m)\u001b[49m\n",
      "\u001b[31mFileNotFoundError\u001b[39m: [Errno 2] No such file or directory: 'my_saved_model_v1.sav'"
     ]
    }
   ],
   "source": [
    "filename = 'my_saved_model_v1.sav'\n",
    "model_A = pickle.load(open(filename, 'rb'))\n"
   ]
  },
  {
   "cell_type": "markdown",
   "metadata": {},
   "source": [
    "(Optional) Load a second model if you want to do comparative testing"
   ]
  },
  {
   "cell_type": "code",
   "execution_count": null,
   "metadata": {},
   "outputs": [],
   "source": [
    "filename = 'my_saved_model_v1.sav'\n",
    "model_B = pickle.load(open(filename, 'rb'))"
   ]
  },
  {
   "cell_type": "markdown",
   "metadata": {},
   "source": [
    "####  Step 3\n",
    "Open and parse the test data CSV file and store the data as variable array data objects."
   ]
  },
  {
   "cell_type": "code",
   "execution_count": null,
   "metadata": {},
   "outputs": [],
   "source": [
    "x_col = 'BMI'\n",
    "testing_data = pd.read_csv('2.4.1.testing_data.csv')\n",
    "x_test = np.array(testing_data[x_col]).reshape(-1,1)\n",
    "y_test = np.array(testing_data['Target'])"
   ]
  },
  {
   "cell_type": "markdown",
   "metadata": {},
   "source": [
    "#### Step 5\n",
    "\n",
    "Plot the test data features, targets and linear regression model to visually evaluate the model."
   ]
  },
  {
   "cell_type": "code",
   "execution_count": null,
   "metadata": {},
   "outputs": [
    {
     "data": {
      "image/png": "[encoded data removed]",
      "text/plain": [
       "<Figure size 640x480 with 1 Axes>"
      ]
     },
     "metadata": {},
     "output_type": "display_data"
    }
   ],
   "source": [
    "y_pred = model_A.predict(x_test)\n",
    "plt.scatter(x_test, y_pred)\n",
    "plt.scatter(x_test, y_test, marker='x', c='r')\n",
    "plt.title(\"NESA Course Specifications Data\")\n",
    "plt.ylabel(f'Testing {x_col}')\n",
    "plt.xlabel(f'Testing Target')\n",
    "plt.show()"
   ]
  },
  {
   "cell_type": "markdown",
   "metadata": {},
   "source": [
    "#### Step 6\n",
    "\n",
    "Use the 'score' method of the `LinearRegression` class to return a score based evaluation of the models accuracy or performance."
   ]
  },
  {
   "cell_type": "code",
   "execution_count": null,
   "metadata": {},
   "outputs": [
    {
     "name": "stdout",
     "output_type": "stream",
     "text": [
      "Training data score: 0.3013702234773944\n"
     ]
    }
   ],
   "source": [
    "test_score = model_A.score(x_test, y_test)\n",
    "print(f'Training data score: {test_score}')"
   ]
  },
  {
   "cell_type": "markdown",
   "metadata": {},
   "source": [
    "#### Step 7\n",
    "\n",
    "Manually calculate and evaluate the 'loss' and 'cost' of the model using the test data."
   ]
  },
  {
   "cell_type": "code",
   "execution_count": null,
   "metadata": {},
   "outputs": [
    {
     "name": "stdout",
     "output_type": "stream",
     "text": [
      "     DoB    DoT  Predicted result        Loss\n",
      "0   29.6  236.0        177.067270   3472.7449\n",
      "1   30.1  180.0        181.336595      1.7956\n",
      "2   25.4  168.0        141.204940    718.2400\n",
      "3   22.2   93.0        113.881260    435.9744\n",
      "4   24.9  151.0        136.935615    197.6836\n",
      "5   26.3  113.0        148.889725   1288.0921\n",
      "6   23.1  125.0        121.566045     11.7649\n",
      "7   22.1   72.0        113.027395   1683.4609\n",
      "8   20.5   37.0         99.365556   3890.0169\n",
      "9   33.0  141.0        206.098680   4238.0100\n",
      "10  33.0   55.0        206.098680  22831.2100\n",
      "11  31.4  293.0        192.436840  10112.3136\n",
      "12  28.6  265.0        168.528620   9306.4609\n",
      "13  22.5  103.0        116.442855    180.6336\n",
      "14  27.9  268.0        162.551565  11119.7025\n",
      "15  24.8   90.0        136.081750   2123.3664\n",
      "16  21.8  128.0        110.465800    307.3009\n",
      "17  32.0  215.0        197.560030    304.1536\n",
      "18  22.8  127.0        119.004450     64.0000\n",
      "19  24.4  281.0        132.666290  22001.7889\n",
      "20  29.3  296.0        174.505675  14759.8201\n",
      "21  31.8  136.0        195.852300   3582.0225\n",
      "22  23.0  135.0        120.712180    204.2041\n",
      "23  23.4   87.0        124.127640   1378.6369\n",
      "24  30.7   99.0        186.459785   7649.2516\n",
      "25  22.9  113.0        119.858315     47.0596\n",
      "26  23.3   94.0        123.273775    856.7329\n",
      "27  28.1  273.0        164.259295  11824.3876\n",
      "28  30.3  166.0        183.044325    290.3616\n",
      "29  28.3  246.0        165.967025   6404.8009\n",
      "30  22.1  114.0        113.027395      0.9409\n",
      "31  21.0   63.0        103.634880   1650.7969\n",
      "32  24.4  131.0        132.666290      2.7889\n",
      "33  30.0  246.0        180.482730   4292.8704\n",
      "34  28.9  225.0        171.090215   2906.2881\n",
      "35  25.8  134.0        144.620400    112.7844\n",
      "36  20.4   83.0         98.511691    240.5601\n",
      "37  20.6  115.0        100.219421    218.4484\n",
      "38  21.1   68.0        104.488745   1331.5201\n",
      "39  18.5   90.0         82.288256     59.4441\n",
      "40  31.6  303.0        194.144570  11850.4996\n",
      "41  26.0  198.0        146.328130   2669.7889\n",
      "42  41.3  346.0        276.969475   4765.1409\n",
      "43  35.0  200.0        223.175980    537.3124\n",
      "44  22.5  185.0        116.442855   4700.4736\n",
      "45  25.5   59.0        142.058805   6898.9636\n",
      "46  23.0   50.0        120.712180   4999.9041\n",
      "47  26.8   48.0        153.159050  11058.6256\n",
      "48  21.5  181.0        107.904205   5343.6100\n",
      "49  28.7  182.0        169.382485    159.2644\n",
      "50  31.4  142.0        192.436840   2544.1936\n",
      "51  28.8  283.0        170.236350  12714.8176\n",
      "52  30.8  258.0        187.313650   4997.0761\n",
      "53  23.3   65.0        123.273775   3395.3929\n",
      "54  28.1  248.0        164.259295   7012.3876\n",
      "55  30.1  147.0        181.336595   1179.2356\n",
      "56  30.0  220.0        180.482730   1561.8304\n",
      "57  24.7  168.0        135.227885   1073.8729\n",
      "58  32.6   78.0        202.683220  15545.1024\n",
      "The cost or average loss of this model is 2161.948525423729\n"
     ]
    }
   ],
   "source": [
    "table = pd.DataFrame({\n",
    "    testing_data.columns[0]: x_test.flatten(),  # Flatten x for easy display\n",
    "    testing_data.columns[1]: y_test,\n",
    "    'Predicted result':model_A.predict(x_test),\n",
    "    'Loss' : abs(model_A.predict(x_test).round(2) - y_test)**2\n",
    "})\n",
    "print(table)\n",
    "cost = 1 / (2 * table.shape[0]) * table['Loss'].sum()\n",
    "\n",
    "print(f\"The cost or average loss of this model is {cost}\")"
   ]
  },
  {
   "cell_type": "markdown",
   "metadata": {},
   "source": [
    "You may want to do some manual predictions to understand your model."
   ]
  },
  {
   "cell_type": "code",
   "execution_count": null,
   "metadata": {},
   "outputs": [
    {
     "name": "stdout",
     "output_type": "stream",
     "text": [
      "[-74.82290381]\n",
      "[-67.13811884]\n"
     ]
    }
   ],
   "source": [
    "print(model_A.predict([[0.1]]))\n",
    "print(model_A.predict([[1]]))"
   ]
  },
  {
   "cell_type": "markdown",
   "metadata": {},
   "source": [
    "#### Step 8\n",
    "\n",
    "Evaluate the X axis intercept and gradient or coefficient of your model by using the getter methods to return the intercept and coefficient from my_model() object."
   ]
  },
  {
   "cell_type": "code",
   "execution_count": null,
   "metadata": {},
   "outputs": [
    {
     "name": "stdout",
     "output_type": "stream",
     "text": [
      "X Axis intercept: -75.67676881111146\n",
      "Coefficient: [8.53864997]\n"
     ]
    }
   ],
   "source": [
    "print(f'X Axis intercept: {model_A.intercept_}')\n",
    "print(f'Coefficient: {model_A.coef_}')"
   ]
  },
  {
   "cell_type": "markdown",
   "metadata": {},
   "source": [
    "#### Step 9. Multiple Variable Linear Regression\n",
    "\n",
    "You should be able to understand the code snippets with less guidelines."
   ]
  },
  {
   "cell_type": "code",
   "execution_count": null,
   "metadata": {},
   "outputs": [],
   "source": [
    "filename = 'my_saved_model_v2.sav'\n",
    "model_C = pickle.load(open(filename, 'rb'))"
   ]
  },
  {
   "cell_type": "code",
   "execution_count": null,
   "metadata": {},
   "outputs": [],
   "source": [
    "mx_col = ['BMI','BP','FDR']\n",
    "testing_data = pd.read_csv('2.4.1.testing_data.csv')\n",
    "mx_test = np.array(testing_data[mx_col])\n",
    "my_test = np.array(testing_data['Target'])"
   ]
  },
  {
   "cell_type": "code",
   "execution_count": null,
   "metadata": {},
   "outputs": [
    {
     "data": {
      "image/png": "[encoded data removed]",
      "text/plain": [
       "<Figure size 1200x300 with 3 Axes>"
      ]
     },
     "metadata": {},
     "output_type": "display_data"
    }
   ],
   "source": [
    "my_pred = model_C.predict(mx_test)\n",
    "\n",
    "# plot predictions and targets vs original features    \n",
    "fig,ax=plt.subplots(1,len(mx_col),figsize=(12,3),sharey=True)\n",
    "for i in range(len(ax)):\n",
    "    ax[i].scatter(mx_test[:,i],my_test, label = 'target')\n",
    "    ax[i].set_xlabel(mx_col[i])\n",
    "    ax[i].scatter(mx_test[:,i],my_pred,color=\"orange\", label = 'predict')\n",
    "    ax[i].set_ylabel(\"Target\"); ax[i].legend();\n",
    "fig.suptitle(\"Diabetes Disease Progress\")\n",
    "plt.show()"
   ]
  },
  {
   "cell_type": "code",
   "execution_count": null,
   "metadata": {},
   "outputs": [
    {
     "name": "stdout",
     "output_type": "stream",
     "text": [
      "Training data score: 0.410478742428076\n"
     ]
    }
   ],
   "source": [
    "test_score = model_C.score(mx_test, my_test)\n",
    "print(f'Training data score: {test_score}')"
   ]
  },
  {
   "cell_type": "code",
   "execution_count": null,
   "metadata": {},
   "outputs": [
    {
     "name": "stdout",
     "output_type": "stream",
     "text": [
      "[-82.18431591]\n",
      "[-33.74320048]\n"
     ]
    }
   ],
   "source": [
    "print(model_C.predict([[0.1,0.1,0.1]]))\n",
    "print(model_C.predict([[1,0.5,1]]))"
   ]
  },
  {
   "cell_type": "code",
   "execution_count": null,
   "metadata": {},
   "outputs": [
    {
     "name": "stdout",
     "output_type": "stream",
     "text": [
      "The cost or average loss of this model is 1824.3578669491524\n",
      "     BMI        BP  FDR  Target  Predicted result        Loss\n",
      "0   29.6  0.788235  0.0   236.0        186.258543   2474.0676\n",
      "1   30.1  0.270588  1.0   180.0        165.469883    211.1209\n",
      "2   25.4  0.447059  1.0   168.0        143.568595    596.8249\n",
      "3   22.2  0.270588  1.0    93.0        106.798412    190.4400\n",
      "4   24.9  0.423529  0.0   151.0        124.476715    703.3104\n",
      "5   26.3  0.376471  0.0   113.0        131.406318    338.9281\n",
      "6   23.1  0.364706  2.0   125.0        134.062809     82.0836\n",
      "7   22.1  0.352941  2.0    72.0        125.769072   2891.2129\n",
      "8   20.5  0.294118  1.0    37.0         95.906842   3470.3881\n",
      "9   33.0  0.470588  0.0   141.0        188.101413   2218.4100\n",
      "10  33.0  0.211765  0.0    55.0        169.028112  13002.8409\n",
      "11  31.4  0.705882  1.0   293.0        207.202508   7361.6400\n",
      "12  28.6  0.388235  1.0   265.0        162.999413  10404.0000\n",
      "13  22.5  0.823529  2.0   103.0        163.418509   3650.5764\n",
      "14  27.9  0.482353  1.0   268.0        164.736421  10662.6276\n",
      "15  24.8  0.423529  0.0    90.0        123.734038   1137.7129\n",
      "16  21.8  0.341176  1.0   128.0        109.029514    359.8609\n",
      "17  32.0  0.647059  1.0   215.0        207.323727     58.9824\n",
      "18  22.8  0.376471  2.0   127.0        132.701746     32.4900\n",
      "19  24.4  0.764706  1.0   281.0        159.549969  14750.1025\n",
      "20  29.3  0.811765  2.0   296.0        213.053567   6880.7025\n",
      "21  31.8  0.317647  1.0   136.0        181.563263   2075.7136\n",
      "22  23.0  0.541176  2.0   135.0        146.324656    128.1424\n",
      "23  23.4  0.376471  0.0    87.0        109.868689    523.0369\n",
      "24  30.7  0.517647  2.0    99.0        201.776837  10563.7284\n",
      "25  22.9  0.376471  2.0   113.0        133.444423    417.7936\n",
      "26  23.3  0.388235  2.0    94.0        137.282099   1873.1584\n",
      "27  28.1  0.658824  2.0   273.0        192.870858   6420.8169\n",
      "28  30.3  0.635294  0.0   166.0        180.186693    201.3561\n",
      "29  28.3  0.376471  0.0   246.0        146.259855   9948.0676\n",
      "30  22.1  0.352941  2.0   114.0        125.769072    138.5329\n",
      "31  21.0  0.270588  2.0    63.0        111.530849   2355.1609\n",
      "32  24.4  0.211765  1.0   131.0        118.802461    148.8400\n",
      "33  30.0  0.623529  1.0   246.0        190.736254   3053.6676\n",
      "34  28.9  0.380353  2.0   225.0        178.291134   2181.8241\n",
      "35  25.8  0.505882  2.0   134.0        164.518703    931.4704\n",
      "36  20.4  0.505882  0.0    83.0         97.125034    199.6569\n",
      "37  20.6  0.376471  1.0   115.0        102.718296    150.7984\n",
      "38  21.1  0.317647  0.0    68.0         88.452280    418.2025\n",
      "39  18.5  0.376471  2.0    90.0        100.766642    115.9929\n",
      "40  31.6  0.717647  1.0   303.0        209.554829   8732.9025\n",
      "41  26.0  0.360824  1.0   198.0        141.669779   3173.0689\n",
      "42  41.3  0.305882  3.0   346.0        278.539714   4550.8516\n",
      "43  35.0  0.509765  1.0   200.0        219.486514    379.8601\n",
      "44  22.5  0.400000  1.0   185.0        118.563093   4414.2736\n",
      "45  25.5  0.447059  2.0    59.0        157.955831   9793.0816\n",
      "46  23.0  0.611765  0.0    50.0        124.237346   5511.5776\n",
      "47  26.8  0.800000  0.0    48.0        166.330559  14001.9889\n",
      "48  21.5  0.352941  2.0   181.0        121.313011   3562.8961\n",
      "49  28.7  0.494118  1.0   182.0        171.544804    109.4116\n",
      "50  31.4  0.376471  2.0   142.0        196.571956   2977.8849\n",
      "51  28.8  0.682353  1.0   283.0        186.158973   9377.9856\n",
      "52  30.8  0.670588  0.0   258.0        186.500982   5112.2500\n",
      "53  23.3  0.388235  1.0    65.0        123.637540   3438.6496\n",
      "54  28.1  0.682353  1.0   248.0        180.960235   4494.3616\n",
      "55  30.1  0.423529  1.0   147.0        176.740471    884.4676\n",
      "56  30.0  0.470588  0.0   220.0        165.821107   2935.4724\n",
      "57  24.7  0.329412  3.0   168.0        156.989293    121.2201\n",
      "58  32.6  0.258824  0.0    78.0        169.525277   8377.7409\n"
     ]
    }
   ],
   "source": [
    "data = {col: mx_test[:, i] for i, col in enumerate(mx_col)}\n",
    "data['Target'] = my_test\n",
    "data['Predicted result'] = model_C.predict(mx_test)\n",
    "data['Loss'] = abs(model_C.predict(mx_test).round(2) - my_test)**2\n",
    "table = pd.DataFrame(data)\n",
    "\n",
    "cost = 1 / (2 * table.shape[0]) * table['Loss'].sum()\n",
    "print(f\"The cost or average loss of this model is {cost}\")\n",
    "\n",
    "print(table)"
   ]
  },
  {
   "cell_type": "code",
   "execution_count": null,
   "metadata": {},
   "outputs": [
    {
     "name": "stdout",
     "output_type": "stream",
     "text": [
      "X Axis intercept: -91.66067877886636\n",
      "Coefficient: [ 7.42676854 73.69230087 13.64455932]\n"
     ]
    }
   ],
   "source": [
    "print(f'X Axis intercept: {model_C.intercept_}')\n",
    "print(f'Coefficient: {model_C.coef_}')"
   ]
  },
  {
   "cell_type": "markdown",
   "metadata": {},
   "source": [
    "#### Step 10. Polynomial Linear Regression\n",
    "\n",
    "You should be able to understand the code snippets with less guidelines."
   ]
  },
  {
   "cell_type": "code",
   "execution_count": null,
   "metadata": {},
   "outputs": [],
   "source": [
    "model_filename = 'my_saved_model_v3.sav'\n",
    "poly_filename = 'my_saved_poly_v3.pkl'\n",
    "\n",
    "model_D = pickle.load(open(model_filename, 'rb'))\n",
    "poly = pickle.load(open(poly_filename, 'rb'))"
   ]
  },
  {
   "cell_type": "code",
   "execution_count": null,
   "metadata": {},
   "outputs": [],
   "source": [
    "mx_col = ['BMI']\n",
    "testing_data = pd.read_csv('2.4.1.testing_data.csv')\n",
    "mx_test = np.array(testing_data[mx_col])\n",
    "my_test = np.array(testing_data['Target'])"
   ]
  },
  {
   "cell_type": "code",
   "execution_count": null,
   "metadata": {},
   "outputs": [],
   "source": [
    "poly_features = poly.fit_transform(mx_test)"
   ]
  },
  {
   "cell_type": "code",
   "execution_count": null,
   "metadata": {},
   "outputs": [
    {
     "data": {
      "image/png": "[encoded data removed]",
      "text/plain": [
       "<Figure size 640x480 with 1 Axes>"
      ]
     },
     "metadata": {},
     "output_type": "display_data"
    }
   ],
   "source": [
    "y_pred = model_D.predict(poly_features)\n",
    "\n",
    "plt.scatter(x_test, y_pred)\n",
    "plt.scatter(x_test, y_test, marker='x', c='r')\n",
    "plt.title(\"NESA Course Specifications Data\")\n",
    "plt.ylabel(f'Testing {x_col}')\n",
    "plt.xlabel(f'Testing Target')\n",
    "plt.show()"
   ]
  },
  {
   "cell_type": "code",
   "execution_count": null,
   "metadata": {},
   "outputs": [
    {
     "name": "stdout",
     "output_type": "stream",
     "text": [
      "Training data score: -0.09851275292863293\n"
     ]
    }
   ],
   "source": [
    "test_score = model_D.score(poly_features, my_test)\n",
    "print(f'Training data score: {test_score}')"
   ]
  },
  {
   "cell_type": "code",
   "execution_count": null,
   "metadata": {},
   "outputs": [
    {
     "name": "stdout",
     "output_type": "stream",
     "text": [
      "[80.03493372]\n"
     ]
    }
   ],
   "source": [
    "new_poly_feature = poly.fit_transform([[0.1]])\n",
    "print(model_D.predict(new_poly_feature))"
   ]
  },
  {
   "cell_type": "code",
   "execution_count": null,
   "metadata": {},
   "outputs": [
    {
     "name": "stdout",
     "output_type": "stream",
     "text": [
      "The cost or average loss of this model is 3399.4674618644067\n",
      "     BMI  Target  Predicted result         Loss\n",
      "0   29.6   236.0        172.840737    3989.1856\n",
      "1   30.1   180.0        175.873214      17.0569\n",
      "2   25.4   168.0        143.392142     605.6521\n",
      "3   22.2    93.0        112.703231     388.0900\n",
      "4   24.9   151.0        138.722149     150.7984\n",
      "5   26.3   113.0        151.219586    1460.7684\n",
      "6   23.1   125.0        121.161489      14.7456\n",
      "7   22.1    72.0        111.802400    1584.0400\n",
      "8   20.5    37.0         98.929281    3835.3249\n",
      "9   33.0   141.0        203.646819    3925.0225\n",
      "10  33.0    55.0        203.646819   22096.8225\n",
      "11  31.4   293.0        185.555617   11543.3536\n",
      "12  28.6   265.0        167.071428    9590.2849\n",
      "13  22.5   103.0        115.458357     155.2516\n",
      "14  27.9   268.0        162.821189   11062.8324\n",
      "15  24.8    90.0        137.767541    2281.9729\n",
      "16  21.8   128.0        109.158690     354.9456\n",
      "17  32.0   215.0        191.420646     556.0164\n",
      "18  22.8   127.0        118.282393      76.0384\n",
      "19  24.4   281.0        133.898675   21638.4100\n",
      "20  29.3   296.0        171.100692   15600.0100\n",
      "21  31.8   136.0        189.347277    2846.2225\n",
      "22  23.0   135.0        120.196570     219.0400\n",
      "23  23.4    87.0        124.080814    1374.9264\n",
      "24  30.7    99.0        179.923746    6548.0464\n",
      "25  22.9   113.0        119.236688      38.9376\n",
      "26  23.3    94.0        123.104185     846.8100\n",
      "27  28.1   273.0        164.073883   11865.7449\n",
      "28  30.3   166.0        177.161619     124.5456\n",
      "29  28.3   246.0        165.293211    6514.1041\n",
      "30  22.1   114.0        111.802400       4.8400\n",
      "31  21.0    63.0        102.605904    1568.9521\n",
      "32  24.4   131.0        133.898675       8.4100\n",
      "33  30.0   246.0        175.247711    5005.5625\n",
      "34  28.9   225.0        168.807715    3157.3161\n",
      "35  25.8   134.0        146.975035     168.4804\n",
      "36  20.4    83.0         98.235694     232.2576\n",
      "37  20.6   115.0         99.636999     235.9296\n",
      "38  21.1    68.0        103.381657    1251.7444\n",
      "39  18.5    90.0         87.815744       4.7524\n",
      "40  31.6   303.0        187.393975   13365.6721\n",
      "41  26.0   198.0        148.706069    2429.5041\n",
      "42  41.3   346.0        729.668928  147202.6689\n",
      "43  35.0   200.0        234.015038    1157.3604\n",
      "44  22.5   185.0        115.458357    4835.8116\n",
      "45  25.5    59.0        144.301991    7276.0900\n",
      "46  23.0    50.0        120.196570    4928.0400\n",
      "47  26.8    48.0        155.172597   11485.4089\n",
      "48  21.5   181.0        106.611499    5533.8721\n",
      "49  28.7   182.0        167.653702     205.9225\n",
      "50  31.4   142.0        185.555617    1897.4736\n",
      "51  28.8   283.0        168.232159   13172.1529\n",
      "52  30.8   258.0        180.660216    5981.4756\n",
      "53  23.3    65.0        123.104185    3375.6100\n",
      "54  28.1   248.0        164.073883    7044.2449\n",
      "55  30.1   147.0        175.873214     833.4769\n",
      "56  30.0   220.0        175.247711    2002.5625\n",
      "57  24.7   168.0        136.807319     972.8161\n",
      "58  32.6    78.0        198.387761   14493.7521\n"
     ]
    }
   ],
   "source": [
    "data = {col: mx_test[:, i] for i, col in enumerate(mx_col)}\n",
    "data['Target'] = my_test\n",
    "data['Predicted result'] = model_D.predict(poly_features)\n",
    "data['Loss'] = abs(model_D.predict(poly_features).round(2) - my_test)**2\n",
    "table = pd.DataFrame(data)\n",
    "\n",
    "cost = 1 / (2 * table.shape[0]) * table['Loss'].sum()\n",
    "print(f\"The cost or average loss of this model is {cost}\")\n",
    "\n",
    "print(table)"
   ]
  },
  {
   "cell_type": "markdown",
   "metadata": {},
   "source": [
    "#### Step 11\n",
    "\n",
    "When your model is ready for operations, move it to the [3.Operations\\3.1.Deploy_Model](\\3.Operations\\3.1.Deploy_Model) folder."
   ]
  }
 ],
 "metadata": {
  "kernelspec": {
   "display_name": "Python 3",
   "language": "python",
   "name": "python3"
  },
  "language_info": {
   "codemirror_mode": {
    "name": "ipython",
    "version": 3
   },
   "file_extension": ".py",
   "mimetype": "text/x-python",
   "name": "python",
   "nbconvert_exporter": "python",
   "pygments_lexer": "ipython3",
   "version": "3.12.1"
  }
 },
 "nbformat": 4,
 "nbformat_minor": 2
}
