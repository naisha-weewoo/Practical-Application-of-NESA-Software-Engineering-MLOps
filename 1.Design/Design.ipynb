{
 "cells": [
  {
   "cell_type": "markdown",
   "id": "a509e258",
   "metadata": {},
   "source": [
    "# Design\n",
    "\n",
    "## Defining the business problem to be solved\n",
    "\n",
    "Sales Force Health Cloud is one of the largest medical CRMs in Australia. Sales Force has identified an opportunity to expand their medical product to incorporate medical forecasting for patients using AI/ML models. In Australia, Diabetes prevalence has slowly increased over the last twenty years, from 3.3% in 2001 to 5.3% in 2022. Sales Force background research has identified that Doctors often underestimate the progress of type II adult-onset diabetes after diagnosis. Often resulting in insufficient medical interventions and reduced health outcomes for patients. Sales Force has approached you as a Data Engineer to develop a PoC diabetes forecasting service for doctors to provide a valid and reliable prediction of the disease progression over the patient's next 12 months based on data in a patient's CRM record.\n"
   ]
  },
  {
   "cell_type": "markdown",
   "id": "353d0aba",
   "metadata": {},
   "source": [
    "## Refactoring the business problem into a machine learning problem\n",
    "*First describe the problem in plain language, write down the problem in simple, direct words requires thinking through what really needs to be accomplished. It is important you identify what business outcome you are trying to achieve, not what process or model you want to use.*"
   ]
  },
  {
   "cell_type": "markdown",
   "id": "c48c831a",
   "metadata": {},
   "source": [
    "problem: doctors are underestimating the escalation/progress of diabetes after diagnosis\n",
    "solution: they need a tool that will predict the evolution of diabetes over time based on the patient's history, which will allow doctors to administer proper care as required --> health outcomes increased"
   ]
  },
  {
   "cell_type": "markdown",
   "id": "51d17e08",
   "metadata": {},
   "source": [
    "## Defining success metrics\n",
    "\n",
    "*We are not talking about MSE, MAE, or R2 score. The success metrics should be focused on business, addressing the ideal outcome you identified earlier. How will you determine if the machine learning model fails to live up to business requirements? How will you know it has succeeded?*\n"
   ]
  },
  {
   "cell_type": "markdown",
   "id": "00d8c7c1",
   "metadata": {},
   "source": [
    "measure the prevalence of diabetes before and after the final model has been deployed and implemented --> if the prevalence is decreasing, that means the model is successful. the effectiveness can be measured based on the rate of prevalence decrease --> model can be updated as and if required"
   ]
  },
  {
   "cell_type": "markdown",
   "id": "9feac632",
   "metadata": {},
   "source": [
    "## Researching available data.\n",
    "\n",
    "Sales Force have sourced and provided a validated raw data set. The data is saved in the CSV file 2.1.2.Diabeties_Sample_Data.csv.\n",
    "\n",
    "> [!Important]\n",
    "> The information and ranges provided below are to help students understand the domain of the data, it is not intended as medical or diagnostic advice.\n",
    "\n",
    "- The data columns are:\n",
    "\n",
    "     | Column | Data                                                                                                                                                                                                                                                                                                 |\n",
    "     | ------ | ---------------------------------------------------------------------------------------------------------------------------------------------------------------------------------------------------------------------------------------------------------------------------------------------------- |\n",
    "     | DoB    | The patients Date of Birth recorded as D/MM/YYYY                                                                                                                                                                                                                                                     |\n",
    "     | DoT    | The patients date of testing records as D/MM/YYYY                                                                                                                                                                                                                                                    |\n",
    "     | SEX    | Patients gender ---                                                                                                                                                                                                                                                                                  |\n",
    "     | BMI,   | Patients body mass index, which gives an indication of the patients body size and is calculated using their weight and height ---                                                                                                                                                                    |\n",
    "     | BP | Diastole blood pressure, which is the pressure of blood on the walls of the patient's arteries when their heart is relaxed. <80 is desirable, 80-95 is high >95 is very high.                                                                                                                         |\n",
    "     | TC     | Total cholesterol is a measure of the cholesterol in the patient's body. Cholesterol is essential in order for your body to continue building healthy cells; however, having high cholesterol can increase your risk of heart disease. <5.5 is desirable 5.5-6.6 is borderline, and >6.5 is undesirable |\n",
    "     | BGU    | Patients fasting blood glucose levels. 75-99 is desirable, and 100+ is undesirable.                                                                                                                                                                                                                   |\n",
    "     | FDR | The number of family members in the individual's direct bloodline who have developed type 2 adult-onset diabetes.                                                                                                                                                                                     |\n",
    "     | Target | A quantitative measure of disease progression one year after baseline. Patients should aim towards `0` as this means the condition has not progressed further.                                                                                                                                       |  \n",
    "\n",
    "          \n",
    "     > [!Note]\n",
    "     > This is a [real data set](https://www4.stat.ncsu.edu/~boos/var.select/diabetes.html) used in [real statistical medical research](https://imjohnstone.su.domains/WEBLIST/2004/LarsAnnStat04.pdf) that has been modified for the purposes of teaching data wrangling and feature engineering."
   ]
  }
 ],
 "metadata": {
  "language_info": {
   "name": "python"
  }
 },
 "nbformat": 4,
 "nbformat_minor": 5
}
